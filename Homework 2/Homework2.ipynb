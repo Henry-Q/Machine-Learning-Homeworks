{
 "cells": [
  {
   "cell_type": "markdown",
   "id": "8653a7b0",
   "metadata": {},
   "source": [
    "### Part a"
   ]
  },
  {
   "cell_type": "code",
   "execution_count": 8,
   "id": "8c8f3fad",
   "metadata": {},
   "outputs": [
    {
     "name": "stdout",
     "output_type": "stream",
     "text": [
      "<class 'pandas.core.frame.DataFrame'>\n",
      "RangeIndex: 2560 entries, 0 to 2559\n",
      "Data columns (total 16 columns):\n",
      " #   Column           Non-Null Count  Dtype  \n",
      "---  ------           --------------  -----  \n",
      " 0   male             2560 non-null   int64  \n",
      " 1   age              2560 non-null   int64  \n",
      " 2   education        2560 non-null   object \n",
      " 3   currentSmoker    2560 non-null   int64  \n",
      " 4   cigsPerDay       2560 non-null   int64  \n",
      " 5   BPMeds           2560 non-null   int64  \n",
      " 6   prevalentStroke  2560 non-null   int64  \n",
      " 7   prevalentHyp     2560 non-null   int64  \n",
      " 8   diabetes         2560 non-null   int64  \n",
      " 9   totChol          2560 non-null   int64  \n",
      " 10  sysBP            2560 non-null   float64\n",
      " 11  diaBP            2560 non-null   float64\n",
      " 12  BMI              2560 non-null   float64\n",
      " 13  heartRate        2560 non-null   int64  \n",
      " 14  glucose          2560 non-null   int64  \n",
      " 15  TenYearCHD       2560 non-null   int64  \n",
      "dtypes: float64(3), int64(12), object(1)\n",
      "memory usage: 320.1+ KB\n"
     ]
    },
    {
     "data": {
      "text/html": [
       "<div>\n",
       "<style scoped>\n",
       "    .dataframe tbody tr th:only-of-type {\n",
       "        vertical-align: middle;\n",
       "    }\n",
       "\n",
       "    .dataframe tbody tr th {\n",
       "        vertical-align: top;\n",
       "    }\n",
       "\n",
       "    .dataframe thead th {\n",
       "        text-align: right;\n",
       "    }\n",
       "</style>\n",
       "<table border=\"1\" class=\"dataframe\">\n",
       "  <thead>\n",
       "    <tr style=\"text-align: right;\">\n",
       "      <th></th>\n",
       "      <th>male</th>\n",
       "      <th>age</th>\n",
       "      <th>education</th>\n",
       "      <th>currentSmoker</th>\n",
       "      <th>cigsPerDay</th>\n",
       "      <th>BPMeds</th>\n",
       "      <th>prevalentStroke</th>\n",
       "      <th>prevalentHyp</th>\n",
       "      <th>diabetes</th>\n",
       "      <th>totChol</th>\n",
       "      <th>sysBP</th>\n",
       "      <th>diaBP</th>\n",
       "      <th>BMI</th>\n",
       "      <th>heartRate</th>\n",
       "      <th>glucose</th>\n",
       "      <th>TenYearCHD</th>\n",
       "    </tr>\n",
       "  </thead>\n",
       "  <tbody>\n",
       "    <tr>\n",
       "      <th>0</th>\n",
       "      <td>0</td>\n",
       "      <td>41</td>\n",
       "      <td>Some high school</td>\n",
       "      <td>1</td>\n",
       "      <td>43</td>\n",
       "      <td>0</td>\n",
       "      <td>0</td>\n",
       "      <td>1</td>\n",
       "      <td>0</td>\n",
       "      <td>306</td>\n",
       "      <td>199.0</td>\n",
       "      <td>106.0</td>\n",
       "      <td>38.75</td>\n",
       "      <td>100</td>\n",
       "      <td>75</td>\n",
       "      <td>0</td>\n",
       "    </tr>\n",
       "    <tr>\n",
       "      <th>1</th>\n",
       "      <td>0</td>\n",
       "      <td>38</td>\n",
       "      <td>High school/GED</td>\n",
       "      <td>1</td>\n",
       "      <td>15</td>\n",
       "      <td>0</td>\n",
       "      <td>0</td>\n",
       "      <td>0</td>\n",
       "      <td>0</td>\n",
       "      <td>176</td>\n",
       "      <td>110.0</td>\n",
       "      <td>80.0</td>\n",
       "      <td>24.03</td>\n",
       "      <td>100</td>\n",
       "      <td>113</td>\n",
       "      <td>0</td>\n",
       "    </tr>\n",
       "    <tr>\n",
       "      <th>2</th>\n",
       "      <td>1</td>\n",
       "      <td>42</td>\n",
       "      <td>High school/GED</td>\n",
       "      <td>1</td>\n",
       "      <td>9</td>\n",
       "      <td>0</td>\n",
       "      <td>0</td>\n",
       "      <td>0</td>\n",
       "      <td>0</td>\n",
       "      <td>205</td>\n",
       "      <td>110.0</td>\n",
       "      <td>73.0</td>\n",
       "      <td>22.40</td>\n",
       "      <td>61</td>\n",
       "      <td>66</td>\n",
       "      <td>0</td>\n",
       "    </tr>\n",
       "    <tr>\n",
       "      <th>3</th>\n",
       "      <td>0</td>\n",
       "      <td>42</td>\n",
       "      <td>High school/GED</td>\n",
       "      <td>0</td>\n",
       "      <td>0</td>\n",
       "      <td>0</td>\n",
       "      <td>0</td>\n",
       "      <td>1</td>\n",
       "      <td>0</td>\n",
       "      <td>263</td>\n",
       "      <td>150.0</td>\n",
       "      <td>88.0</td>\n",
       "      <td>23.68</td>\n",
       "      <td>96</td>\n",
       "      <td>78</td>\n",
       "      <td>0</td>\n",
       "    </tr>\n",
       "    <tr>\n",
       "      <th>4</th>\n",
       "      <td>0</td>\n",
       "      <td>53</td>\n",
       "      <td>High school/GED</td>\n",
       "      <td>0</td>\n",
       "      <td>0</td>\n",
       "      <td>0</td>\n",
       "      <td>0</td>\n",
       "      <td>1</td>\n",
       "      <td>0</td>\n",
       "      <td>272</td>\n",
       "      <td>146.0</td>\n",
       "      <td>89.0</td>\n",
       "      <td>25.50</td>\n",
       "      <td>73</td>\n",
       "      <td>67</td>\n",
       "      <td>0</td>\n",
       "    </tr>\n",
       "  </tbody>\n",
       "</table>\n",
       "</div>"
      ],
      "text/plain": [
       "   male  age         education  currentSmoker  cigsPerDay  BPMeds  \\\n",
       "0     0   41  Some high school              1          43       0   \n",
       "1     0   38   High school/GED              1          15       0   \n",
       "2     1   42   High school/GED              1           9       0   \n",
       "3     0   42   High school/GED              0           0       0   \n",
       "4     0   53   High school/GED              0           0       0   \n",
       "\n",
       "   prevalentStroke  prevalentHyp  diabetes  totChol  sysBP  diaBP    BMI  \\\n",
       "0                0             1         0      306  199.0  106.0  38.75   \n",
       "1                0             0         0      176  110.0   80.0  24.03   \n",
       "2                0             0         0      205  110.0   73.0  22.40   \n",
       "3                0             1         0      263  150.0   88.0  23.68   \n",
       "4                0             1         0      272  146.0   89.0  25.50   \n",
       "\n",
       "   heartRate  glucose  TenYearCHD  \n",
       "0        100       75           0  \n",
       "1        100      113           0  \n",
       "2         61       66           0  \n",
       "3         96       78           0  \n",
       "4         73       67           0  "
      ]
     },
     "execution_count": 8,
     "metadata": {},
     "output_type": "execute_result"
    }
   ],
   "source": [
    "import numpy as np\n",
    "import pandas as pd\n",
    "\n",
    "df_train = pd.read_csv('framingham_train.csv')\n",
    "df_test = pd.read_csv('framingham_test.csv')\n",
    "df_train.info()\n",
    "df_train.head()"
   ]
  },
  {
   "cell_type": "code",
   "execution_count": 9,
   "id": "e096deac",
   "metadata": {},
   "outputs": [
    {
     "name": "stdout",
     "output_type": "stream",
     "text": [
      "Optimization terminated successfully.\n",
      "         Current function value: 0.365281\n",
      "         Iterations 7\n",
      "                           Logit Regression Results                           \n",
      "==============================================================================\n",
      "Dep. Variable:             TenYearCHD   No. Observations:                 2560\n",
      "Model:                          Logit   Df Residuals:                     2542\n",
      "Method:                           MLE   Df Model:                           17\n",
      "Date:                Thu, 05 Oct 2023   Pseudo R-squ.:                  0.1331\n",
      "Time:                        18:44:06   Log-Likelihood:                -935.12\n",
      "converged:                       True   LL-Null:                       -1078.7\n",
      "Covariance Type:            nonrobust   LLR p-value:                 5.181e-51\n",
      "===============================================================================================================\n",
      "                                                  coef    std err          z      P>|z|      [0.025      0.975]\n",
      "---------------------------------------------------------------------------------------------------------------\n",
      "Intercept                                      -9.2740      0.882    -10.516      0.000     -11.002      -7.546\n",
      "education[T.High school/GED]                   -0.1053      0.217     -0.485      0.628      -0.531       0.321\n",
      "education[T.Some college/vocational school]    -0.1025      0.241     -0.425      0.671      -0.575       0.370\n",
      "education[T.Some high school]                   0.0610      0.202      0.302      0.762      -0.334       0.456\n",
      "male                                            0.5621      0.134      4.189      0.000       0.299       0.825\n",
      "age                                             0.0689      0.008      8.303      0.000       0.053       0.085\n",
      "currentSmoker                                   0.1539      0.189      0.816      0.415      -0.216       0.524\n",
      "cigsPerDay                                      0.0155      0.007      2.077      0.038       0.001       0.030\n",
      "BPMeds                                          0.1528      0.281      0.544      0.587      -0.398       0.704\n",
      "prevalentStroke                                 0.8209      0.570      1.441      0.150      -0.296       1.938\n",
      "prevalentHyp                                    0.2075      0.167      1.246      0.213      -0.119       0.534\n",
      "diabetes                                       -0.2975      0.395     -0.753      0.452      -1.072       0.477\n",
      "totChol                                         0.0020      0.001      1.445      0.148      -0.001       0.005\n",
      "sysBP                                           0.0181      0.005      3.900      0.000       0.009       0.027\n",
      "diaBP                                          -0.0045      0.008     -0.584      0.560      -0.020       0.011\n",
      "BMI                                             0.0136      0.016      0.867      0.386      -0.017       0.044\n",
      "heartRate                                      -0.0046      0.005     -0.888      0.374      -0.015       0.006\n",
      "glucose                                         0.0096      0.003      3.439      0.001       0.004       0.015\n",
      "===============================================================================================================\n"
     ]
    }
   ],
   "source": [
    "import statsmodels.formula.api as smf\n",
    "logreg = smf.logit(formula = 'TenYearCHD ~ male + age + education + currentSmoker + cigsPerDay + BPMeds + prevalentStroke + prevalentHyp + diabetes + totChol + sysBP + diaBP + BMI + heartRate + glucose',\n",
    "                  data=df_train).fit()\n",
    "print(logreg.summary())"
   ]
  },
  {
   "cell_type": "markdown",
   "id": "65a6d693",
   "metadata": {},
   "source": [
    "i) The fitted logistic regression model is $${Pr}(\\text{TenYearCHD} = 1 | \\text{X}) = \\frac{1}{1 + e^{-(-9.274-0.105 \\text{High school/GED}-0.102 \\text{Some college/vocational school} + 0.061\\text{Some high school} + 0.562\\text{male} + 0.069\\text{age} + 0.154\\text{currentSmoker} + 0.016\\text{cigsPerDay} + 0.153\\text{BPMeds} + 0.821\\text{prevalentStroke} + 0.208\\text{prevalentHyp} -0.298\\text{diabetes} + 0.002\\text{totChol} + 0.018\\text{sysBP} -0.005\\text{diaBP} + 0.014\\text{BMI} - 0.005\\text{heartRate} + 0.010\\text{glucose})}}$$"
   ]
  },
  {
   "cell_type": "markdown",
   "id": "d2a933d8",
   "metadata": {},
   "source": [
    "ii) From the coefficients in the model we can see that the variable `prevalentStroke` has the highest positive coefficient and `diabetes` has the lowest negative coefficient. It means that a person previously had a stroke or currently has diabetes will result in a higher probability of developing CHD within the next 10 years. For example, for every increase of 1 in `prevalentStroke` (keeping other variables the same), odds of developing CHD within the next 10 years is multiplied by $e^{0.821} = 2.273$."
   ]
  },
  {
   "cell_type": "markdown",
   "id": "8685ca37",
   "metadata": {},
   "source": [
    "iii) $$\\text{Expected Cost of CHD Without Medication} = p×700,000$$ $$\\text{Expected Cost of No CHD Without Medication} = 0$$ $$\\text{Expected Cost of CHD with Medication} = 0.15p×775,000$$ $$\\text{Expected Cost of No CHD with Medication} = (1-0.15p)×75,000$$ We want the cost of taking medication is lower than the cost of not taking medication, which is Expected Cost with Medication less than Expected Cost Without Medication: $0.15p×775,000 + (1-0.15p)×75,000 < p×700,000 + 0$ solve $p > 0.126$. So the $\\bar{p} = 0.126$."
   ]
  },
  {
   "cell_type": "code",
   "execution_count": 10,
   "id": "bc508be4",
   "metadata": {},
   "outputs": [],
   "source": [
    "y_prob = logreg.predict(df_test)\n",
    "y_pred = pd.Series([1 if x > 0.126 else 0 for x in y_prob], index=y_prob.index)"
   ]
  },
  {
   "cell_type": "code",
   "execution_count": 11,
   "id": "b7b89747",
   "metadata": {
    "scrolled": true
   },
   "outputs": [
    {
     "name": "stdout",
     "output_type": "stream",
     "text": [
      "Confusion Matrix : \n",
      " [[569 354]\n",
      " [ 56 119]]\n"
     ]
    }
   ],
   "source": [
    "from sklearn.metrics import confusion_matrix\n",
    "y_test = df_test['TenYearCHD']\n",
    "cm = confusion_matrix(y_test, y_pred)\n",
    "print (\"Confusion Matrix : \\n\", cm) "
   ]
  },
  {
   "cell_type": "markdown",
   "id": "20cf4240",
   "metadata": {},
   "source": [
    "iv) $Accuracy = \\frac{569+119}{569+119+56+354} = 0.63$, $TPR = \\frac{119}{119+56} = 0.68$, $FPR = \\frac{354}{354+569} = 0.38$. The proportion of CHD that we correctly classified is 0.84, the proportion of the person really getting CHD that we correctly identified will develop CHD is 0.68, and the proportion of the person who don't really get CHD but we incorrectly identified will develop CHD is 0.38. "
   ]
  },
  {
   "cell_type": "markdown",
   "id": "cbb7a24a",
   "metadata": {},
   "source": [
    "v) From the model we can see that the model predicts 569 True Negative, 354 False Positive, 56 False Negative, and 119 True Positve. Using the strategy implied by the model, the patients is prescribed the medication if he or she is predicted to be 1 and not prescribed the medication if he or she is predicted to be 0. So the total expected cost will be: $119 \\times 775,000 + 354 \\times 75,000 + 56 \\times 700,000 + 569 \\times 0 = 157,975,000$. Total observation is $569 + 354 + 56 + 119 = 1098$. So the estimate for the expected economic cost per patient is $\\frac{157,975,000}{1098} = 143,875.23$. We calculate this estimate for the expected economic cost is under the assuption that the CHD outcomes are not affected by the treatment decision. In reality, however, patients may experience a reduced risk of CHD after receiving the medication, so this assumption is not reasonable. \\\n",
    "If we consider the fact that the treatment decision impacts a patient’s risk of developing CHD, then the total estimated expected cost is needed to consider p, so out of 119 TP, only $119\\times 0.15$ will develop CHD. So the total expectied cost will be $119 \\times 0.15 \\times 775,000 + 119 \\times 0.85 \\times 75,000  + 354 \\times 75,000 + 56 \\times 700,000 + 569 \\times 0 = 87,170,000$. So the estimate for the expected economic cost per patient is $\\frac{87,170,000}{1098} = 79,389.80$."
   ]
  },
  {
   "cell_type": "code",
   "execution_count": 12,
   "id": "49d3a51e",
   "metadata": {},
   "outputs": [
    {
     "name": "stdout",
     "output_type": "stream",
     "text": [
      "Confusion Matrix : \n",
      " [[923   0]\n",
      " [175   0]]\n"
     ]
    }
   ],
   "source": [
    "y_pred_baseline = np.zeros(1098)\n",
    "cm2 = confusion_matrix(y_test, y_pred_baseline)\n",
    "print (\"Confusion Matrix : \\n\", cm2) "
   ]
  },
  {
   "cell_type": "markdown",
   "id": "1ccb3622",
   "metadata": {},
   "source": [
    "vi) For the baseline model, we predict all patients get 0 outcome. From the confusion matrix above we can see, the True Positives and False Positives are 0, while the True Negatives is 923 and False Negatives is 175. $Accuracy = \\frac{923+0}{923+175+0+0} = 0.84$, $TPR = \\frac{0}{0+175} = 0$, $FPR = \\frac{0}{0+923} = 0$. Expected economic cost per patient $=\\frac{700,000\\times 175 + 0\\times 923}{1098} = 111,566.48$."
   ]
  },
  {
   "cell_type": "code",
   "execution_count": 13,
   "id": "9a3546e7",
   "metadata": {},
   "outputs": [
    {
     "data": {
      "text/plain": [
       "0.1372127503664753"
      ]
     },
     "execution_count": 13,
     "metadata": {},
     "output_type": "execute_result"
    }
   ],
   "source": [
    "d = {'male':[0], 'age':[45], 'education':['College'], 'currentSmoker':[1], 'cigsPerDay':[9], 'BPMeds':[1],\n",
    "    'prevalentStroke':[1], 'prevalentHyp':[0], 'diabetes':[1], 'totChol':[220], 'sysBP':[140], 'diaBP':[100],\n",
    "    'BMI':[33], 'heartRate':[69], 'glucose':[74]}\n",
    "d = pd.DataFrame(d)\n",
    "logreg.predict(d)[0]"
   ]
  },
  {
   "cell_type": "markdown",
   "id": "c2907071",
   "metadata": {},
   "source": [
    "vii) This patient will experience CHD in the next ten years is 0.137, which is grater than the threshold (0.126), so the physician should prescribe the preventive medication for this patient."
   ]
  },
  {
   "cell_type": "markdown",
   "id": "0e4f6fb9",
   "metadata": {},
   "source": [
    "### Part b"
   ]
  },
  {
   "cell_type": "code",
   "execution_count": 14,
   "id": "42ce87bc",
   "metadata": {},
   "outputs": [
    {
     "data": {
      "image/png": "[encoded data removed]",
      "text/plain": [
       "<Figure size 800x600 with 1 Axes>"
      ]
     },
     "metadata": {},
     "output_type": "display_data"
    }
   ],
   "source": [
    "import matplotlib.pyplot as plt\n",
    "from sklearn.metrics import roc_curve, auc\n",
    "\n",
    "fpr, tpr, _ = roc_curve(y_test, y_prob)\n",
    "roc_auc = auc(fpr, tpr)\n",
    "\n",
    "plt.figure(figsize=(8, 6))\n",
    "plt.title('ROC Curve', fontsize=18)\n",
    "plt.xlabel('FPR', fontsize=16)\n",
    "plt.ylabel('TPR', fontsize=16)\n",
    "plt.xlim([-0.01, 1.00])\n",
    "plt.ylim([-0.01, 1.01])\n",
    "plt.plot(fpr, tpr, lw=3, label='Logistic Regression (area = {:0.2f})'.format(roc_auc))\n",
    "plt.plot([0, 1], [0, 1], color='navy', lw=3, linestyle='--', label='Naive Baseline (area = 0.50)')\n",
    "plt.legend(loc='lower right', fontsize=14)\n",
    "plt.show()"
   ]
  },
  {
   "cell_type": "markdown",
   "id": "25174221",
   "metadata": {},
   "source": [
    "This ROC curve evaluate this logistic regression model preformance with different threshold. By examining the curve, decision-makers can select an appropriate threshold that balances TPR and FPR based on economic considerations. The area under the curve (AUC) for this model in the test set is 0.70, indicating that this model has a reasonable discriminative ability but still need to be improved. So, except considering the economic cost, the decision-makers can use ROC curve to look for other possible medications for preventing CHD so that the AUC of other model can closer to 1. "
   ]
  },
  {
   "cell_type": "markdown",
   "id": "17743f0f",
   "metadata": {},
   "source": [
    "### Part c"
   ]
  },
  {
   "cell_type": "markdown",
   "id": "7715ba4f",
   "metadata": {},
   "source": [
    "In the part a, we have the threshold $p = 0.126$, which is to determine the high risk of developing CHD. We consider the patients who will have CHD with taking medication or without. If a patient chooses to take the medication, the risk of developing CHD is 0.15p, and the cost of decreased quality of life is 500,000, so the total cost is $0.15p \\times (500,000+C)$. If a patient chooses to take the mdeication but does not develop CHD at the end, the cost will be $(1-0.15p)\\times C$. If a patient chooses to not take the medication, the risk of developing CHD is the same p, and the cost will be $p \\times 500,000$. Plug 0.126 as p into the equation will be $0.15 \\times 0.126 \\times (500,000+C) + (1-0.15\\times 0.126)\\times C = 0.126 \\times 500,000$, $C = 53,550$."
   ]
  },
  {
   "cell_type": "markdown",
   "id": "b3ea85a1",
   "metadata": {},
   "source": [
    "### Part d"
   ]
  },
  {
   "cell_type": "markdown",
   "id": "e528faa7",
   "metadata": {},
   "source": [
    "Yes. One concern is that patient's right to choose will be violated if predictive models are only used to determine who should receive medication. The predictions given by logistic regression models are based on data, but the conditions of model prediction are not transparent. If we make decisions only based on models, we risk oversimplifying individual cases without taking into account each patient's unique circumstances.One way to address this concern is to use predictive models as tools instead of decision makers. Instead of letting the predictive model simply dictate the course of treatment, use it as a tool to inform discussions. The model can be used to provide information for treatment, but final decisions should be made based on individual patient analysis and discussions of risks and benefits with the patient."
   ]
  },
  {
   "cell_type": "code",
   "execution_count": null,
   "id": "44d402f1",
   "metadata": {},
   "outputs": [],
   "source": []
  }
 ],
 "metadata": {
  "kernelspec": {
   "display_name": "Python 3 (ipykernel)",
   "language": "python",
   "name": "python3"
  },
  "language_info": {
   "codemirror_mode": {
    "name": "ipython",
    "version": 3
   },
   "file_extension": ".py",
   "mimetype": "text/x-python",
   "name": "python",
   "nbconvert_exporter": "python",
   "pygments_lexer": "ipython3",
   "version": "3.11.4"
  },
  "varInspector": {
   "cols": {
    "lenName": 16,
    "lenType": 16,
    "lenVar": 40
   },
   "kernels_config": {
    "python": {
     "delete_cmd_postfix": "",
     "delete_cmd_prefix": "del ",
     "library": "var_list.py",
     "varRefreshCmd": "print(var_dic_list())"
    },
    "r": {
     "delete_cmd_postfix": ") ",
     "delete_cmd_prefix": "rm(",
     "library": "var_list.r",
     "varRefreshCmd": "cat(var_dic_list()) "
    }
   },
   "position": {
    "height": "144.852px",
    "left": "1004px",
    "right": "20px",
    "top": "77px",
    "width": "350px"
   },
   "types_to_exclude": [
    "module",
    "function",
    "builtin_function_or_method",
    "instance",
    "_Feature"
   ],
   "window_display": true
  }
 },
 "nbformat": 4,
 "nbformat_minor": 5
}
