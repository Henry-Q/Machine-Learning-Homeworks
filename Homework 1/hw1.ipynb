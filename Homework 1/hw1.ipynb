{
 "cells": [
  {
   "cell_type": "markdown",
   "id": "ddb427e3",
   "metadata": {},
   "source": [
    "#### Part a"
   ]
  },
  {
   "cell_type": "markdown",
   "id": "73dbf11e",
   "metadata": {},
   "source": [
    "First, use all four independent variables Unemployment, SilveradoQueries, CPI_Energy, and CPI_All to build the linear regression model to predict SilveradoSales:"
   ]
  },
  {
   "cell_type": "code",
   "execution_count": 1,
   "id": "d88c0699",
   "metadata": {},
   "outputs": [
    {
     "name": "stdout",
     "output_type": "stream",
     "text": [
      "                            OLS Regression Results                            \n",
      "==============================================================================\n",
      "Dep. Variable:         SilveradoSales   R-squared:                       0.557\n",
      "Model:                            OLS   Adj. R-squared:                  0.525\n",
      "Method:                 Least Squares   F-statistic:                     17.61\n",
      "Date:                Wed, 20 Sep 2023   Prob (F-statistic):           2.08e-09\n",
      "Time:                        01:50:05   Log-Likelihood:                -615.04\n",
      "No. Observations:                  61   AIC:                             1240.\n",
      "Df Residuals:                      56   BIC:                             1251.\n",
      "Df Model:                           4                                         \n",
      "Covariance Type:            nonrobust                                         \n",
      "====================================================================================\n",
      "                       coef    std err          t      P>|t|      [0.025      0.975]\n",
      "------------------------------------------------------------------------------------\n",
      "Intercept        -1.401e+05   2.19e+05     -0.639      0.526   -5.79e+05    2.99e+05\n",
      "Unemployment       -51.1087   4063.032     -0.013      0.990   -8190.340    8088.122\n",
      "SilveradoQueries    95.9481     23.614      4.063      0.000      48.644     143.253\n",
      "CPI_Energy        -118.2775    112.731     -1.049      0.299    -344.106     107.551\n",
      "CPI_All            859.2657    918.958      0.935      0.354    -981.629    2700.161\n",
      "==============================================================================\n",
      "Omnibus:                        9.028   Durbin-Watson:                   2.411\n",
      "Prob(Omnibus):                  0.011   Jarque-Bera (JB):               14.357\n",
      "Skew:                           0.421   Prob(JB):                     0.000763\n",
      "Kurtosis:                       5.222   Cond. No.                     9.87e+04\n",
      "==============================================================================\n",
      "\n",
      "Notes:\n",
      "[1] Standard Errors assume that the covariance matrix of the errors is correctly specified.\n",
      "[2] The condition number is large, 9.87e+04. This might indicate that there are\n",
      "strong multicollinearity or other numerical problems.\n"
     ]
    }
   ],
   "source": [
    "import numpy as np\n",
    "import pandas as pd\n",
    "import statsmodels.formula.api as smf\n",
    "\n",
    "df = pd.read_csv('Silverado242-Fall2023.csv')\n",
    "df = df.rename(columns={'CPI.Energy': 'CPI_Energy', 'CPI.All': 'CPI_All'})\n",
    "\n",
    "df_train = df[df['Year'] < 2016] \n",
    "df_test = df[df['Year'] >= 2016] \n",
    "\n",
    "model1 = smf.ols(formula = 'SilveradoSales ~ Unemployment + SilveradoQueries + CPI_Energy + CPI_All', \n",
    "                 data = df_train).fit()\n",
    "\n",
    "print(model1.summary()) "
   ]
  },
  {
   "cell_type": "markdown",
   "id": "9542ebaf",
   "metadata": {},
   "source": [
    "From this model we can see that `Unemployment` variable has p-value 0.990, which is statistically insignificant. So, use the variable without `Unemployment` to run the model again. "
   ]
  },
  {
   "cell_type": "code",
   "execution_count": 15,
   "id": "fdcbf3ae",
   "metadata": {},
   "outputs": [
    {
     "name": "stdout",
     "output_type": "stream",
     "text": [
      "                            OLS Regression Results                            \n",
      "==============================================================================\n",
      "Dep. Variable:         SilveradoSales   R-squared:                       0.557\n",
      "Model:                            OLS   Adj. R-squared:                  0.534\n",
      "Method:                 Least Squares   F-statistic:                     23.89\n",
      "Date:                Wed, 20 Sep 2023   Prob (F-statistic):           3.85e-10\n",
      "Time:                        02:13:13   Log-Likelihood:                -615.04\n",
      "No. Observations:                  61   AIC:                             1238.\n",
      "Df Residuals:                      57   BIC:                             1247.\n",
      "Df Model:                           3                                         \n",
      "Covariance Type:            nonrobust                                         \n",
      "====================================================================================\n",
      "                       coef    std err          t      P>|t|      [0.025      0.975]\n",
      "------------------------------------------------------------------------------------\n",
      "Intercept        -1.428e+05   4.55e+04     -3.136      0.003   -2.34e+05   -5.16e+04\n",
      "SilveradoQueries    95.9338     23.379      4.103      0.000      49.118     142.749\n",
      "CPI_Energy        -119.5633     47.114     -2.538      0.014    -213.907     -25.220\n",
      "CPI_All            870.6210    170.493      5.106      0.000     529.214    1212.028\n",
      "==============================================================================\n",
      "Omnibus:                        9.033   Durbin-Watson:                   2.411\n",
      "Prob(Omnibus):                  0.011   Jarque-Bera (JB):               14.371\n",
      "Skew:                           0.422   Prob(JB):                     0.000757\n",
      "Kurtosis:                       5.223   Cond. No.                     2.07e+04\n",
      "==============================================================================\n",
      "\n",
      "Notes:\n",
      "[1] Standard Errors assume that the covariance matrix of the errors is correctly specified.\n",
      "[2] The condition number is large, 2.07e+04. This might indicate that there are\n",
      "strong multicollinearity or other numerical problems.\n"
     ]
    }
   ],
   "source": [
    "model2 = smf.ols(formula = 'SilveradoSales ~ SilveradoQueries + CPI_Energy + CPI_All', \n",
    "                 data = df_train).fit()\n",
    "print(model2.summary())"
   ]
  },
  {
   "cell_type": "markdown",
   "id": "b10e841b",
   "metadata": {},
   "source": [
    "This model gives the current variables are all statistically significant (p-values < 0.05). The result give the formular: $\\text{SilveradoSales} = -142800 + 95.93 \\times \\text{SilveradoQueries} - 119.56 \\times \\text{CPI_Energy} + 870.62 \\times \\text{CPI_All}$. It means that for each additional online query related to Silverado, the monthly Silverado sales increase by approximately 96 units; for each unit increase in the CPI for energy, the monthly Silverado sales decrease by approximately 120 units; for each unit increase in the overall CPI, the monthly Silverado sales increase by approximately 871 units. The sign of `SilveradoQueries` is positive which makes sense since increased online interest and searches for Silverado correlate with higher sales. The sign of `CPI_Energy` is negative which makes sense since the fuel price increase may discourage consumers from buying cars. The sign of `CPI_All` is positive which does not make sense since the overall price increase may consumers' desire to buy a car. The $R^2$ is 0.557, which means the model linear regression models does not a very good job. "
   ]
  },
  {
   "cell_type": "markdown",
   "id": "cf106e5f",
   "metadata": {},
   "source": [
    "#### Part B"
   ]
  },
  {
   "cell_type": "code",
   "execution_count": 3,
   "id": "5b038af4",
   "metadata": {},
   "outputs": [
    {
     "name": "stdout",
     "output_type": "stream",
     "text": [
      "                            OLS Regression Results                            \n",
      "==============================================================================\n",
      "Dep. Variable:         SilveradoSales   R-squared:                       0.770\n",
      "Model:                            OLS   Adj. R-squared:                  0.693\n",
      "Method:                 Least Squares   F-statistic:                     10.03\n",
      "Date:                Wed, 20 Sep 2023   Prob (F-statistic):           7.82e-10\n",
      "Time:                        01:50:05   Log-Likelihood:                -595.08\n",
      "No. Observations:                  61   AIC:                             1222.\n",
      "Df Residuals:                      45   BIC:                             1256.\n",
      "Df Model:                          15                                         \n",
      "Covariance Type:            nonrobust                                         \n",
      "=========================================================================================\n",
      "                            coef    std err          t      P>|t|      [0.025      0.975]\n",
      "-----------------------------------------------------------------------------------------\n",
      "Intercept             -1.108e+05   1.84e+05     -0.600      0.551   -4.82e+05    2.61e+05\n",
      "C(MonthFactor)[T.Aug]  4910.4467   3114.557      1.577      0.122   -1362.592    1.12e+04\n",
      "C(MonthFactor)[T.Dec]  9225.0008   3055.096      3.020      0.004    3071.723    1.54e+04\n",
      "C(MonthFactor)[T.Feb]  6078.6658   3083.130      1.972      0.055    -131.077    1.23e+04\n",
      "C(MonthFactor)[T.Jan] -7181.2966   3106.245     -2.312      0.025   -1.34e+04    -924.998\n",
      "C(MonthFactor)[T.Jul]  4298.9011   3171.452      1.355      0.182   -2088.731    1.07e+04\n",
      "C(MonthFactor)[T.Jun]  3808.0922   3108.344      1.225      0.227   -2452.434    1.01e+04\n",
      "C(MonthFactor)[T.Mar]  1884.9149   3073.796      0.613      0.543   -4306.029    8075.859\n",
      "C(MonthFactor)[T.May]  3633.8189   3094.236      1.174      0.246   -2598.293    9865.930\n",
      "C(MonthFactor)[T.Nov] -1463.3568   3118.119     -0.469      0.641   -7743.571    4816.857\n",
      "C(MonthFactor)[T.Oct]  1148.9481   3164.662      0.363      0.718   -5225.008    7522.904\n",
      "C(MonthFactor)[T.Sep]  1960.3219   3140.264      0.624      0.536   -4364.495    8285.139\n",
      "Unemployment           -592.4274   3396.354     -0.174      0.862   -7433.035    6248.180\n",
      "SilveradoQueries         88.4260     22.499      3.930      0.000      43.111     133.741\n",
      "CPI_Energy             -103.1362     93.544     -1.103      0.276    -291.543      85.271\n",
      "CPI_All                 727.0390    774.050      0.939      0.353    -831.977    2286.055\n",
      "==============================================================================\n",
      "Omnibus:                       22.976   Durbin-Watson:                   1.776\n",
      "Prob(Omnibus):                  0.000   Jarque-Bera (JB):               49.610\n",
      "Skew:                           1.137   Prob(JB):                     1.69e-11\n",
      "Kurtosis:                       6.788   Cond. No.                     1.03e+05\n",
      "==============================================================================\n",
      "\n",
      "Notes:\n",
      "[1] Standard Errors assume that the covariance matrix of the errors is correctly specified.\n",
      "[2] The condition number is large, 1.03e+05. This might indicate that there are\n",
      "strong multicollinearity or other numerical problems.\n"
     ]
    }
   ],
   "source": [
    "model3 = smf.ols(formula = 'SilveradoSales ~ Unemployment + SilveradoQueries + CPI_Energy + CPI_All + C(MonthFactor)', \n",
    "                 data=df_train).fit()\n",
    "print(model3.summary()) "
   ]
  },
  {
   "cell_type": "markdown",
   "id": "119374dd",
   "metadata": {},
   "source": [
    "The result give the regression formular: $\\text{SilveradoSales} = -110800 - 592.43 \\times \\text{Unemployment} + 88.43 \\times \\text{SilveradoQueries} - 103.14 \\times \\text{CPI_Energy} + 727.04 \\times \\text{CPI_All} + 4910.44 \\times \\text{T.Aug} + 9225.00 \\times \\text{T.Dec} + 6078.67 \\times \\text{T.Feb} - 7181.30 \\times \\text{T.Jan} + 4298.90 \\times \\text{T.Jul} + 3808.09 \\times \\text{T.Jun} + 1884.91 \\times \\text{T.Mar} + 3633.82 \\times \\text{T.May} - 1463.36 \\times \\text{T.Nov} + 1148.95 \\times \\text{T.Oct} + 1960.32 \\times \\text{T.Sep}$ The coefficients for each `MonthFactor` represent the difference in Silverado sales for that month compared to the reference month, positive sign means this month may increase the sale while negative sign means this month may decrease the sale. The higher the absolute value of the `MonthFactor` coefficient, the greater the impact. The $R^2$ of this model is 0.770, which means this model does a better job than above one. Compare the p-vale we can see that `T.Dec` factor, `T.Jan` facotr, and `SilveradoQueries` variables are significant. Adding the independent variable `MonthFactor` improves the quality of the model since the $R^2$ with `MonthFactor` is higher than without `MonthFactor`. One way I can think of given data to model seasonality is to change the `MonthFactor` to numerical month number and do the regression again, and it might be the best way to improve the model so far. "
   ]
  },
  {
   "cell_type": "markdown",
   "id": "6945e0ff",
   "metadata": {},
   "source": [
    "#### Part C"
   ]
  },
  {
   "cell_type": "code",
   "execution_count": 13,
   "id": "659292ce",
   "metadata": {},
   "outputs": [
    {
     "name": "stdout",
     "output_type": "stream",
     "text": [
      "                            OLS Regression Results                            \n",
      "==============================================================================\n",
      "Dep. Variable:         SilveradoSales   R-squared:                       0.588\n",
      "Model:                            OLS   Adj. R-squared:                  0.558\n",
      "Method:                 Least Squares   F-statistic:                     19.97\n",
      "Date:                Wed, 20 Sep 2023   Prob (F-statistic):           2.90e-10\n",
      "Time:                        02:05:26   Log-Likelihood:                -612.83\n",
      "No. Observations:                  61   AIC:                             1236.\n",
      "Df Residuals:                      56   BIC:                             1246.\n",
      "Df Model:                           4                                         \n",
      "Covariance Type:            nonrobust                                         \n",
      "====================================================================================\n",
      "                       coef    std err          t      P>|t|      [0.025      0.975]\n",
      "------------------------------------------------------------------------------------\n",
      "Intercept         6.116e+04   1.12e+04      5.464      0.000    3.87e+04    8.36e+04\n",
      "Unemployment     -3618.5417    737.112     -4.909      0.000   -5095.154   -2141.929\n",
      "SilveradoQueries    88.8995     23.023      3.861      0.000      42.779     135.020\n",
      "CPI_Energy         -28.0107     55.741     -0.503      0.617    -139.672      83.651\n",
      "MonthNumeric       493.8521    217.928      2.266      0.027      57.290     930.414\n",
      "==============================================================================\n",
      "Omnibus:                       18.118   Durbin-Watson:                   2.199\n",
      "Prob(Omnibus):                  0.000   Jarque-Bera (JB):               42.084\n",
      "Skew:                           0.818   Prob(JB):                     7.27e-10\n",
      "Kurtosis:                       6.725   Cond. No.                     3.90e+03\n",
      "==============================================================================\n",
      "\n",
      "Notes:\n",
      "[1] Standard Errors assume that the covariance matrix of the errors is correctly specified.\n",
      "[2] The condition number is large, 3.9e+03. This might indicate that there are\n",
      "strong multicollinearity or other numerical problems.\n",
      "0.184023102765419\n"
     ]
    }
   ],
   "source": [
    "model4 = smf.ols(formula = 'SilveradoSales ~ Unemployment + SilveradoQueries + CPI_Energy  + MonthNumeric', \n",
    "                 data=df_train).fit()\n",
    "print(model4.summary())\n",
    "\n",
    "def OSR2(model, df_train, df_test, dependent_var):   \n",
    "    y_test = df_test[dependent_var]\n",
    "    y_pred = model.predict(df_test)\n",
    "    SSE = np.sum((y_test - y_pred)**2)\n",
    "    SST = np.sum((y_test - np.mean(df_train[dependent_var]))**2)    \n",
    "    return 1 - SSE/SST\n",
    "\n",
    "print(OSR2(model4, df_train, df_test, 'SilveradoSales'))"
   ]
  },
  {
   "cell_type": "markdown",
   "id": "512aa558",
   "metadata": {},
   "source": [
    "From part a), we see that the coefficient for `CPI_All` does not make sense, so I drop it. But I keep `Unemployment` since when unemployment rate raise, there mighe be fewer people want to buy a new car. From part b), we can see that `MonthFactor` may have effect on sales, so I include the numerical month number which is `MonthNumeric`. The $R^2$ of training set for this model is 0.588, and the $OSR^2$ is 0.1840. This model may not be useful to Chevrolet since both $R^2$ and $OSR^2$ is low, which means the model does not good. "
   ]
  },
  {
   "cell_type": "markdown",
   "id": "cd61142f",
   "metadata": {},
   "source": [
    "#### Part D"
   ]
  },
  {
   "cell_type": "markdown",
   "id": "a0718d15",
   "metadata": {},
   "source": [
    "The loss function can be:\n",
    "$$l(\\hat{y}, y) = - y \\times 3000 + (\\hat{y} - y) \\times 500$$\n",
    "Since the Chevrolet will have available exactly predicted units for every month inventory level, so we only need to care about the loss from the actual sales vs prediction from the model. The $y \\times 3000$ is the part of the profits comes from actual sales, so we need to minus this part. The $(\\hat{y} - y) \\times 500$ is the cost that carryover to the next month, so it needs to be added to the loss."
   ]
  },
  {
   "cell_type": "code",
   "execution_count": null,
   "id": "d1a3b026",
   "metadata": {},
   "outputs": [],
   "source": []
  }
 ],
 "metadata": {
  "kernelspec": {
   "display_name": "Python 3 (ipykernel)",
   "language": "python",
   "name": "python3"
  },
  "language_info": {
   "codemirror_mode": {
    "name": "ipython",
    "version": 3
   },
   "file_extension": ".py",
   "mimetype": "text/x-python",
   "name": "python",
   "nbconvert_exporter": "python",
   "pygments_lexer": "ipython3",
   "version": "3.11.4"
  },
  "varInspector": {
   "cols": {
    "lenName": 16,
    "lenType": 16,
    "lenVar": 40
   },
   "kernels_config": {
    "python": {
     "delete_cmd_postfix": "",
     "delete_cmd_prefix": "del ",
     "library": "var_list.py",
     "varRefreshCmd": "print(var_dic_list())"
    },
    "r": {
     "delete_cmd_postfix": ") ",
     "delete_cmd_prefix": "rm(",
     "library": "var_list.r",
     "varRefreshCmd": "cat(var_dic_list()) "
    }
   },
   "types_to_exclude": [
    "module",
    "function",
    "builtin_function_or_method",
    "instance",
    "_Feature"
   ],
   "window_display": false
  }
 },
 "nbformat": 4,
 "nbformat_minor": 5
}
